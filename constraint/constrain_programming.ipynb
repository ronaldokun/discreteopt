{
 "cells": [
  {
   "cell_type": "markdown",
   "metadata": {},
   "source": [
    "# Magic Series and Reification"
   ]
  },
  {
   "cell_type": "code",
   "execution_count": 7,
   "metadata": {},
   "outputs": [
    {
     "name": "stdout",
     "output_type": "stream",
     "text": [
      "Using Python-MIP package version 1.7.3\n"
     ]
    }
   ],
   "source": [
    "import os\n",
    "from pathlib import Path\n",
    "from mip import *"
   ]
  },
  {
   "cell_type": "code",
   "execution_count": 2,
   "metadata": {},
   "outputs": [],
   "source": [
    "class PDF(object):\n",
    "    def __init__(self, pdf, size=(1080,720)):\n",
    "        self.pdf = pdf\n",
    "        self.size = size\n",
    "\n",
    "    def _repr_html_(self):\n",
    "        return f'<iframe src={self.pdf} width={self.size[0]} height={self.size[1]}></iframe>'\n",
    "\n",
    "    def _repr_latex_(self):\n",
    "        return fr'\\includegraphics[width=1.0\\textwidth]{{{self.pdf}}}'"
   ]
  },
  {
   "cell_type": "code",
   "execution_count": 5,
   "metadata": {},
   "outputs": [
    {
     "data": {
      "text/html": [
       "<iframe src=3-1-intuition-computational-paradigm-map-coloring-n-queens.pdf width=1080 height=720></iframe>"
      ],
      "text/latex": [
       "\\includegraphics[width=1.0\\textwidth]{3-1-intuition-computational-paradigm-map-coloring-n-queens.pdf}"
      ],
      "text/plain": [
       "<__main__.PDF at 0x7f9700a99910>"
      ]
     },
     "execution_count": 5,
     "metadata": {},
     "output_type": "execute_result"
    }
   ],
   "source": [
    "pdf = Path('3-1-intuition-computational-paradigm-map-coloring-n-queens.pdf')\n",
    "PDF(pdf)"
   ]
  },
  {
   "cell_type": "markdown",
   "metadata": {},
   "source": [
    "## Coloring a Map "
   ]
  },
  {
   "cell_type": "code",
   "execution_count": 6,
   "metadata": {},
   "outputs": [],
   "source": [
    "countries = ['Belgium', 'Denmark', 'France', 'Germany', 'Netherlands', 'Luxembourg']\n",
    "colors = ['black', 'yellow', 'red', 'blue']"
   ]
  },
  {
   "cell_type": "code",
   "execution_count": 8,
   "metadata": {},
   "outputs": [],
   "source": [
    "color_map = Model(\"Coloring a Map\")\n",
    "\n",
    "x = [[color_map.add_var(f'x(country, color)', var_type=BINARY) for j in colors] for i in countries]"
   ]
  },
  {
   "cell_type": "code",
   "execution_count": 9,
   "metadata": {},
   "outputs": [],
   "source": [
    "for j in range(4):\n",
    "    # Belgium\n",
    "    color_map += xsum([x[i][j] for i in [0,2,3,4]]) == 1, 'Belgium'\n",
    "\n",
    "    #France\n",
    "    color_map += xsum([x[i][j] for i in [2,3,5]]) == 1, 'France'\n",
    "    \n",
    "    # Denmark\n",
    "    color_map += xsum([x[i][j] for i in [1,3]]) == 1, 'Denmark'\n",
    "    \n",
    "    # Germany\n",
    "    color_map += xsum([x[i][j] for i in [3,4,5]]) == 1, 'Germany'\n",
    "                      "
   ]
  },
  {
   "cell_type": "code",
   "execution_count": 10,
   "metadata": {},
   "outputs": [
    {
     "data": {
      "text/plain": [
       "<OptimizationStatus.OPTIMAL: 0>"
      ]
     },
     "execution_count": 10,
     "metadata": {},
     "output_type": "execute_result"
    }
   ],
   "source": [
    "color_map.optimize()"
   ]
  },
  {
   "cell_type": "code",
   "execution_count": 37,
   "metadata": {},
   "outputs": [],
   "source": [
    "belgium = color_map.constr_by_name('Belgium')"
   ]
  },
  {
   "cell_type": "code",
   "execution_count": 39,
   "metadata": {},
   "outputs": [
    {
     "data": {
      "text/plain": [
       "12"
      ]
     },
     "execution_count": 39,
     "metadata": {},
     "output_type": "execute_result"
    }
   ],
   "source": [
    "belgium.idx"
   ]
  },
  {
   "cell_type": "code",
   "execution_count": 25,
   "metadata": {},
   "outputs": [
    {
     "name": "stdout",
     "output_type": "stream",
     "text": [
      "12 1\n",
      "13 1\n",
      "14 1\n",
      "15 1\n"
     ]
    }
   ],
   "source": [
    "for i,v in enumerate(color_map.vars):\n",
    "    if v.x >= 0.99:\n",
    "        print(i, v.)"
   ]
  },
  {
   "cell_type": "code",
   "execution_count": 29,
   "metadata": {},
   "outputs": [],
   "source": [
    "c = []\n",
    "\n",
    "for i in colors:\n",
    "    for j in countries:\n",
    "        c.append((i,j))\n"
   ]
  },
  {
   "cell_type": "code",
   "execution_count": 34,
   "metadata": {},
   "outputs": [
    {
     "data": {
      "text/plain": [
       "('red', 'Germany')"
      ]
     },
     "execution_count": 34,
     "metadata": {},
     "output_type": "execute_result"
    }
   ],
   "source": [
    "c[15]"
   ]
  },
  {
   "cell_type": "code",
   "execution_count": 4,
   "metadata": {},
   "outputs": [],
   "source": [
    "n = 5\n",
    "D = range(n)\n",
    "series = {}\n",
    "b = []\n",
    "init = 0\n",
    "for k in D: \n",
    "    for i in D:\n",
    "        for j in [0,1]:\n",
    "            b.append\n",
    "    series[k] =  "
   ]
  },
  {
   "cell_type": "code",
   "execution_count": null,
   "metadata": {},
   "outputs": [],
   "source": []
  }
 ],
 "metadata": {
  "kernelspec": {
   "display_name": "wino",
   "language": "python",
   "name": "wino"
  },
  "language_info": {
   "codemirror_mode": {
    "name": "ipython",
    "version": 3
   },
   "file_extension": ".py",
   "mimetype": "text/x-python",
   "name": "python",
   "nbconvert_exporter": "python",
   "pygments_lexer": "ipython3",
   "version": "3.7.4"
  }
 },
 "nbformat": 4,
 "nbformat_minor": 4
}
